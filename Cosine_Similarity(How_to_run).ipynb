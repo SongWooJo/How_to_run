{
  "nbformat": 4,
  "nbformat_minor": 0,
  "metadata": {
    "colab": {
      "provenance": []
    },
    "kernelspec": {
      "name": "python3",
      "display_name": "Python 3"
    },
    "language_info": {
      "name": "python"
    }
  },
  "cells": [
    {
      "cell_type": "code",
      "execution_count": null,
      "metadata": {
        "id": "DrHrSOSatnfT"
      },
      "outputs": [],
      "source": [
        "from sklearn.metrics.pairwise import cosine_similarity"
      ]
    },
    {
      "cell_type": "code",
      "source": [
        "A = (1,2,3)\n",
        "B = (8,9,10)\n",
        "\n",
        "##분자 - 두 벡터의 원소를 곱한 뒤 합산\n",
        "sum = 0\n",
        "for i in range(len(A)):\n",
        "  sum += A[i]*B[i]\n",
        "X = sum\n",
        "print(X)\n",
        "\n",
        "##분모 - 두 벡터 각각의 크기를 구한 뒤 곱\n",
        "import math\n",
        "sum_A = 0\n",
        "sum_B = 0\n",
        "for i in range(len(A)):\n",
        "  sum_A += A[i]**2\n",
        "  sum_B += B[i]**2\n",
        "\n",
        "AA = math.sqrt(sum_A)\n",
        "BB = math.sqrt(sum_B)\n",
        "Y = AA*BB\n",
        "print(Y)\n",
        "\n",
        "#코사인 유사도\n",
        "print(X/Y)\n",
        "cosine_similarity([A],[B])"
      ],
      "metadata": {
        "colab": {
          "base_uri": "https://localhost:8080/"
        },
        "id": "vAQHjYImt-UT",
        "outputId": "5341574f-b9fd-4a71-82ba-bfddd42e0bda"
      },
      "execution_count": null,
      "outputs": [
        {
          "output_type": "stream",
          "name": "stdout",
          "text": [
            "56\n",
            "58.56620185738529\n",
            "0.9561828874675149\n"
          ]
        },
        {
          "output_type": "execute_result",
          "data": {
            "text/plain": [
              "array([[0.95618289]])"
            ]
          },
          "metadata": {},
          "execution_count": 9
        }
      ]
    }
  ]
}